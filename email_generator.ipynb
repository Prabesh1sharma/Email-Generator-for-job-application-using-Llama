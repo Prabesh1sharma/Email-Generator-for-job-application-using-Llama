{
 "cells": [
  {
   "cell_type": "code",
   "execution_count": 1,
   "metadata": {},
   "outputs": [
    {
     "name": "stdout",
     "output_type": "stream",
     "text": [
      "Gautam Buddha, also known as Siddhartha Gautama, was born in Lumbini, which is located in present-day Nepal. Specifically, Lumbini is situated in the Rupandehi district of the Lumbini Province in southwestern Nepal, near the Indian border.\n"
     ]
    }
   ],
   "source": [
    "from langchain_groq import ChatGroq\n",
    "\n",
    "llm = ChatGroq(\n",
    "    temperature=0,\n",
    "    groq_api_key = '',\n",
    "    model=\"llama-3.1-70b-versatile\",\n",
    "    \n",
    ")\n",
    "\n",
    "response = llm.invoke(\"Where did gautam buddha born\")\n",
    "print(response.content)"
   ]
  },
  {
   "cell_type": "code",
   "execution_count": 3,
   "metadata": {},
   "outputs": [
    {
     "name": "stderr",
     "output_type": "stream",
     "text": [
      "USER_AGENT environment variable not set, consider setting it to identify your requests.\n"
     ]
    },
    {
     "name": "stdout",
     "output_type": "stream",
     "text": [
      "Apply for Lead Machine Learning Engineer – AI/ML (Remote Work Option)\n",
      "\n",
      "Search JobsSkip navigationSearch JobsNIKE, INC. JOBSContract JobsJoin The Talent CommunityLife @ NikeOverviewBenefitsBrandsOverviewJordanConverseTeamsOverviewAdministrative SupportAdvanced InnovationAir Manufacturing InnovationAviationCommunicationsCustomer ServiceDesignDigitalFacilitiesFinance & AccountingGovernment & Public AffairsHuman ResourcesInsights & AnalyticsLegalManufacturing & EngineeringMarketingMerchandisingPlanningPrivacyProcurementProduct Creation, Development & ManagementRetail CorporateRetail StoresSalesSocial & Community ImpactSports MarketingStrategic PlanningSupply Chain, Distribution & LogisticsSustainabilityTechnologyLocationsOverviewNike WHQNike New York HQEHQ: Hilversum, The NetherlandsELC: Laakdal, BelgiumGreater China HQDiversity, Equity & InclusionOverviewMilitary InclusionDisability InclusionIndigenous InclusionInternshipsData & AnalyticsLead Machine Learning Engineer – AI/ML (Remote Work Option)Beaverton, OregonBecome a Part of the NIKE, Inc. Team\n",
      "NIKE, Inc. does more than outfit the world’s best athletes. It is a place to explore potential, obliterate boundaries and push out the edges of what can be. The company looks for people who can grow, think, dream and create. Its culture thrives by embracing diversity and rewarding imagination. The brand seeks achievers, leaders and visionaries. At NIKE, Inc. it’s about each person bringing skills and passion to a challenging and constantly evolving game.Open to remote work except in South Dakota, Vermont and West Virginia.The annual base salary for this position ranges from $119,400.00 in our lowest geographic market to $267,500.00 in our highest geographic market. Actual salary will vary based on a candidate's location, qualifications, skills and experience.Information about benefits can be found here. WHO WE ARE LOOKING FORNike is looking for a Lead Machine Learning Engineer to join our growing team. This role is part of a squad within Enterprise Data & AI AI/ML team, that is responsible for building solutions that will transform marketing experiences and workflows at Nike. Playing a key role in the development of digital tools, processes, and experiences, the ideal candidate is a problem-solver who is motivated to learn new technologies, communicate ideas and knowledge, and collaborate with teammates. You will work with a cross-functional team to build solutions. You need to be able to work with ambiguity and abstract requirements, developing features quickly in a team context, balancing speed with quality. Above all, your work will accelerate Nike's core mission of serving Athletes*WHO WILL YOU WORK WITH?Our team has Machine Learning Engineers, Software Engineers, and Data Scientists. You will work day-to-day with your peer Machine Learning Engineers, Software Engineers, Product Management and other squad team members to achieve business objectives. You will also engage with other Global Technology functions and teams on organizational and technical goals.WHAT YOU WILL DOApply machine learning, specifically computer vision and generative AI techniques to solve business problemsProvide technical leadership, establishing standards and principles for your team to follow.Support investigation of new software packages/tools, APIs, and algorithms to deliver quality analytics and machine learning at scaleCollaborate with a cross functional agile team of software engineers, data engineers, ML experts, and others to build new product featuresContribute to all processes of the ML lifecycle: data collection, annotation, modeling, evaluation, deployment, and monitoringBuild Front-end solutions to enable end users to interact with served models Write production-quality code for ML models as online services and APIsPresent complex analyses clearly and conciselyAbility to build collaborative relationships with peers and multi-functional partnersProvide support by writing documentation and tutorials as well as providing guidance to users with a variety of technical skills.WHAT YOU BRINGBachelor Degree or a combination of relevant education, training and experienceAdvanced degrees a plus (PhD, Masters, etc.)5+ plus years of experience in enterprise environment with a combination of technology and team leadership responsibilities.Expertise with Python, Spark, or Java.Expertise in NodeJS, React, or Vue.js a plus This role requires strong leadership skills to mentor and guide a team of Machine Learning Engineers. Must have a balance of technical expertise, strategic planning, and team management to ensure project execution and workforce optimization.  Expertise in building and productionalizing large scale consumer facing ML modelsDesigned, built and shipped applications that scale and implementing best practices in ML Ops and CI/CD to build state of the art ML modelsProficient at writing good quality, well-documented and tested, scalable code - Python preferred. Experience with tools like mlFlow, Airflow, Docker and Cloud Platforms such as AWS/GCP is ideal. Experience deploying, monitoring and maintaining data science products in cloud environments such as AWSKnowledge of techniques for model compression, quantization, and optimization for deployment in resource-constrained environments.Experience with data processing and storage frameworks like S3, Spark, Dynamo, etc.NIKE, Inc. is a growth company that looks for team members to grow with it. Nike offers a generous total rewards package, casual work environment, a diverse and inclusive culture, and an electric atmosphere for professional development. No matter the location, or the role, every Nike employee shares one galvanizing mission: To bring inspiration and innovation to every athlete* in the world.NIKE, Inc. is committed to employing a diverse workforce. Qualified applicants will receive consideration without regard to race, color, religion, sex, national origin, age, sexual orientation, gender identity, gender expression, veteran status, or disability.How We HireAt NIKE, Inc. we promise to provide a premium, inclusive, compelling and authentic candidate experience. Delivering on this promise means we allow you to be at your best — and to do that, you need to understand how the hiring process works. Transparency is key.\n",
      "\n",
      "* This overview explains our hiring process for corporate roles. Note there may be different hiring steps involved for non-corporate roles.Start nowBenefitsWhether it’s transportation or financial health, we continually invest in our employees to help them achieve greatness — inside and outside of work. All who work here should be able to realize their full potential.Employee Assistance ProgramEmployee Stock Purchase Plan (ESPP)HolidaysMedical PlanPaid Time Off (PTO)Product DiscountsSabbaticalsLearn moreGIFT CARDSPROMOTIONSFIND A STORESIGN UP FOR EMAILBECOME A MEMBERNIKE JOURNALSEND US FEEDBACKGET HELPGET HELPOrder StatusShipping and DeliveryReturnsPayment OptionsGift Cards BalanceContact UsABOUT NIKEABOUT NIKENewsCareersInvestorsPurposeSustainabilityUnited States© 2024 Nike, Inc. All Rights ReservedGuidesNike AdaptNike Air MaxNike FlyleatherNike ReactSpace HippieNike AirNike FlyEaseNike Free Nike VaporflyNike Air Force 1 Nike FlyknitNike JoyrideNike ZoomXTerms of SaleTerms of UseNike Privacy PolicyYour Privacy ChoicesCA Supply Chain Act\n"
     ]
    }
   ],
   "source": [
    "from langchain_community.document_loaders import WebBaseLoader\n",
    "\n",
    "loader = WebBaseLoader(\"https://jobs.nike.com/job/R-38652?from=job%20search%20funnel\")\n",
    "page_data = loader.load().pop().page_content\n",
    "print(page_data)"
   ]
  },
  {
   "cell_type": "code",
   "execution_count": 5,
   "metadata": {},
   "outputs": [
    {
     "name": "stdout",
     "output_type": "stream",
     "text": [
      "```\n",
      "{\n",
      "  \"role\": \"Lead Machine Learning Engineer – AI/ML\",\n",
      "  \"experience\": \"5+ years of experience in enterprise environment with a combination of technology and team leadership responsibilities\",\n",
      "  \"skills\": [\n",
      "    \"Python\",\n",
      "    \"Spark\",\n",
      "    \"Java\",\n",
      "    \"NodeJS\",\n",
      "    \"React\",\n",
      "    \"Vue.js\",\n",
      "    \"mlFlow\",\n",
      "    \"Airflow\",\n",
      "    \"Docker\",\n",
      "    \"Cloud Platforms (AWS/GCP)\",\n",
      "    \"S3\",\n",
      "    \"Dynamo\"\n",
      "  ],\n",
      "  \"description\": \"Apply machine learning, specifically computer vision and generative AI techniques to solve business problems. Provide technical leadership, establishing standards and principles for your team to follow. Support investigation of new software packages/tools, APIs, and algorithms to deliver quality analytics and machine learning at scale. Collaborate with a cross functional agile team of software engineers, data engineers, ML experts, and others to build new product features. Contribute to all processes of the ML lifecycle: data collection, annotation, modeling, evaluation, deployment, and monitoring. Build Front-end solutions to enable end users to interact with served models. Write production-quality code for ML models as online services and APIs. Present complex analyses clearly and concisely. Ability to build collaborative relationships with peers and multi-functional partners. Provide support by writing documentation and tutorials as well as providing guidance to users with a variety of technical skills.\"\n",
      "}\n",
      "```\n"
     ]
    }
   ],
   "source": [
    "from langchain_core.prompts import PromptTemplate\n",
    "prompt_extract = PromptTemplate.from_template(\n",
    "        \"\"\"\n",
    "        ### SCRAPED TEXT FROM WEBSITE:\n",
    "        {page_data}\n",
    "        ### INSTRUCTION:\n",
    "        The scraped text is from the career's page of a website.\n",
    "        Your job is to extract the job postings and return them in JSON format containing the \n",
    "        following keys: `role`, `experience`, `skills` and `description`.\n",
    "        Only return the valid JSON.\n",
    "        ### VALID JSON (NO PREAMBLE):    \n",
    "        \"\"\"\n",
    ")\n",
    "\n",
    "chain_extract = prompt_extract | llm\n",
    "res = chain_extract.invoke(input={'page_data':page_data})\n",
    "print(res.content)"
   ]
  },
  {
   "cell_type": "code",
   "execution_count": 6,
   "metadata": {},
   "outputs": [
    {
     "data": {
      "text/plain": [
       "str"
      ]
     },
     "execution_count": 6,
     "metadata": {},
     "output_type": "execute_result"
    }
   ],
   "source": [
    "type(res.content)"
   ]
  },
  {
   "cell_type": "code",
   "execution_count": 9,
   "metadata": {},
   "outputs": [
    {
     "data": {
      "text/plain": [
       "{'role': 'Lead Machine Learning Engineer – AI/ML',\n",
       " 'experience': '5+ years of experience in enterprise environment with a combination of technology and team leadership responsibilities',\n",
       " 'skills': ['Python',\n",
       "  'Spark',\n",
       "  'Java',\n",
       "  'NodeJS',\n",
       "  'React',\n",
       "  'Vue.js',\n",
       "  'mlFlow',\n",
       "  'Airflow',\n",
       "  'Docker',\n",
       "  'Cloud Platforms (AWS/GCP)',\n",
       "  'S3',\n",
       "  'Dynamo'],\n",
       " 'description': 'Apply machine learning, specifically computer vision and generative AI techniques to solve business problems. Provide technical leadership, establishing standards and principles for your team to follow. Support investigation of new software packages/tools, APIs, and algorithms to deliver quality analytics and machine learning at scale. Collaborate with a cross functional agile team of software engineers, data engineers, ML experts, and others to build new product features. Contribute to all processes of the ML lifecycle: data collection, annotation, modeling, evaluation, deployment, and monitoring. Build Front-end solutions to enable end users to interact with served models. Write production-quality code for ML models as online services and APIs. Present complex analyses clearly and concisely. Ability to build collaborative relationships with peers and multi-functional partners. Provide support by writing documentation and tutorials as well as providing guidance to users with a variety of technical skills.'}"
      ]
     },
     "execution_count": 9,
     "metadata": {},
     "output_type": "execute_result"
    }
   ],
   "source": [
    "from langchain_core.output_parsers import JsonOutputParser\n",
    "json_parser = JsonOutputParser()\n",
    "json_res = json_parser.parse(res.content)\n",
    "json_res"
   ]
  },
  {
   "cell_type": "code",
   "execution_count": 10,
   "metadata": {},
   "outputs": [
    {
     "data": {
      "text/plain": [
       "dict"
      ]
     },
     "execution_count": 10,
     "metadata": {},
     "output_type": "execute_result"
    }
   ],
   "source": [
    "type(json_res)"
   ]
  },
  {
   "cell_type": "code",
   "execution_count": 11,
   "metadata": {},
   "outputs": [
    {
     "data": {
      "text/html": [
       "<div>\n",
       "<style scoped>\n",
       "    .dataframe tbody tr th:only-of-type {\n",
       "        vertical-align: middle;\n",
       "    }\n",
       "\n",
       "    .dataframe tbody tr th {\n",
       "        vertical-align: top;\n",
       "    }\n",
       "\n",
       "    .dataframe thead th {\n",
       "        text-align: right;\n",
       "    }\n",
       "</style>\n",
       "<table border=\"1\" class=\"dataframe\">\n",
       "  <thead>\n",
       "    <tr style=\"text-align: right;\">\n",
       "      <th></th>\n",
       "      <th>Techstack</th>\n",
       "      <th>Links</th>\n",
       "    </tr>\n",
       "  </thead>\n",
       "  <tbody>\n",
       "    <tr>\n",
       "      <th>0</th>\n",
       "      <td>React, Node.js, MongoDB</td>\n",
       "      <td>https://example.com/react-portfolio</td>\n",
       "    </tr>\n",
       "    <tr>\n",
       "      <th>1</th>\n",
       "      <td>Angular,.NET, SQL Server</td>\n",
       "      <td>https://example.com/angular-portfolio</td>\n",
       "    </tr>\n",
       "    <tr>\n",
       "      <th>2</th>\n",
       "      <td>Vue.js, Ruby on Rails, PostgreSQL</td>\n",
       "      <td>https://example.com/vue-portfolio</td>\n",
       "    </tr>\n",
       "    <tr>\n",
       "      <th>3</th>\n",
       "      <td>Python, Django, MySQL</td>\n",
       "      <td>https://example.com/python-portfolio</td>\n",
       "    </tr>\n",
       "    <tr>\n",
       "      <th>4</th>\n",
       "      <td>Java, Spring Boot, Oracle</td>\n",
       "      <td>https://example.com/java-portfolio</td>\n",
       "    </tr>\n",
       "  </tbody>\n",
       "</table>\n",
       "</div>"
      ],
      "text/plain": [
       "                           Techstack                                  Links\n",
       "0            React, Node.js, MongoDB    https://example.com/react-portfolio\n",
       "1           Angular,.NET, SQL Server  https://example.com/angular-portfolio\n",
       "2  Vue.js, Ruby on Rails, PostgreSQL      https://example.com/vue-portfolio\n",
       "3              Python, Django, MySQL   https://example.com/python-portfolio\n",
       "4          Java, Spring Boot, Oracle     https://example.com/java-portfolio"
      ]
     },
     "execution_count": 11,
     "metadata": {},
     "output_type": "execute_result"
    }
   ],
   "source": [
    "import pandas as pd \n",
    "df = pd.read_csv(\"my_portfolio.csv\")\n",
    "df.head()"
   ]
  },
  {
   "cell_type": "code",
   "execution_count": 12,
   "metadata": {},
   "outputs": [],
   "source": [
    "import uuid\n",
    "import chromadb\n",
    "\n",
    "\n",
    "client = chromadb.PersistentClient(\"Vectorstore\")\n",
    "collection = client.get_or_create_collection(name = 'portfolio')\n",
    "\n",
    "if not collection.count():\n",
    "    for _, row in df.iterrows():\n",
    "        collection.add(documents=row['Techstack'],\n",
    "                       metadatas={\"links\":row['Links']},\n",
    "                       ids= [str(uuid.uuid4())])"
   ]
  },
  {
   "cell_type": "code",
   "execution_count": 14,
   "metadata": {},
   "outputs": [
    {
     "data": {
      "text/plain": [
       "[[{'links': 'https://example.com/ml-python-portfolio'},\n",
       "  {'links': 'https://example.com/python-portfolio'}],\n",
       " [{'links': 'https://example.com/react-portfolio'},\n",
       "  {'links': 'https://example.com/react-native-portfolio'}]]"
      ]
     },
     "execution_count": 14,
     "metadata": {},
     "output_type": "execute_result"
    }
   ],
   "source": [
    "links = collection.query(query_texts=['experience in python','Experience on React'],n_results=2).get('metadatas')\n",
    "links"
   ]
  },
  {
   "cell_type": "code",
   "execution_count": 15,
   "metadata": {},
   "outputs": [
    {
     "data": {
      "text/plain": [
       "['Python',\n",
       " 'Spark',\n",
       " 'Java',\n",
       " 'NodeJS',\n",
       " 'React',\n",
       " 'Vue.js',\n",
       " 'mlFlow',\n",
       " 'Airflow',\n",
       " 'Docker',\n",
       " 'Cloud Platforms (AWS/GCP)',\n",
       " 'S3',\n",
       " 'Dynamo']"
      ]
     },
     "execution_count": 15,
     "metadata": {},
     "output_type": "execute_result"
    }
   ],
   "source": [
    "job = json_res\n",
    "job['skills']"
   ]
  },
  {
   "cell_type": "code",
   "execution_count": 16,
   "metadata": {},
   "outputs": [
    {
     "data": {
      "text/plain": [
       "[[{'links': 'https://example.com/ml-python-portfolio'},\n",
       "  {'links': 'https://example.com/python-portfolio'}],\n",
       " [{'links': 'https://example.com/kotlin-android-portfolio'},\n",
       "  {'links': 'https://example.com/kotlin-backend-portfolio'}],\n",
       " [{'links': 'https://example.com/java-portfolio'},\n",
       "  {'links': 'https://example.com/android-portfolio'}],\n",
       " [{'links': 'https://example.com/react-portfolio'},\n",
       "  {'links': 'https://example.com/react-native-portfolio'}],\n",
       " [{'links': 'https://example.com/react-portfolio'},\n",
       "  {'links': 'https://example.com/react-native-portfolio'}],\n",
       " [{'links': 'https://example.com/vue-portfolio'},\n",
       "  {'links': 'https://example.com/full-stack-js-portfolio'}],\n",
       " [{'links': 'https://example.com/ml-python-portfolio'},\n",
       "  {'links': 'https://example.com/devops-portfolio'}],\n",
       " [{'links': 'https://example.com/ml-python-portfolio'},\n",
       "  {'links': 'https://example.com/ios-ar-portfolio'}],\n",
       " [{'links': 'https://example.com/devops-portfolio'},\n",
       "  {'links': 'https://example.com/ios-ar-portfolio'}],\n",
       " [{'links': 'https://example.com/xamarin-portfolio'},\n",
       "  {'links': 'https://example.com/devops-portfolio'}],\n",
       " [{'links': 'https://example.com/kotlin-android-portfolio'},\n",
       "  {'links': 'https://example.com/java-portfolio'}],\n",
       " [{'links': 'https://example.com/kotlin-android-portfolio'},\n",
       "  {'links': 'https://example.com/kotlin-backend-portfolio'}]]"
      ]
     },
     "execution_count": 16,
     "metadata": {},
     "output_type": "execute_result"
    }
   ],
   "source": [
    "links = collection.query(query_texts=job['skills'],n_results=2).get('metadatas')\n",
    "links"
   ]
  },
  {
   "cell_type": "code",
   "execution_count": 20,
   "metadata": {},
   "outputs": [
    {
     "name": "stdout",
     "output_type": "stream",
     "text": [
      "Subject: Expert AI Solutions for Your Business Needs\n",
      "\n",
      "Dear Hiring Manager,\n",
      "\n",
      "I came across the job description for a Lead Machine Learning Engineer – AI/ML, and I'm excited to introduce you to xyz, a leading AI & Software Consulting company dedicated to empowering businesses with tailored solutions. Our team of experts has extensive experience in developing and deploying AI and machine learning models that drive business growth and efficiency.\n",
      "\n",
      "With over 5 years of experience in enterprise environments, our team has a deep understanding of the technical and leadership responsibilities required to deliver high-quality AI solutions. Our expertise in Python, Spark, Java, NodeJS, React, Vue.js, mlFlow, Airflow, Docker, Cloud Platforms (AWS/GCP), S3, and Dynamo makes us an ideal partner for your business needs.\n",
      "\n",
      "Our portfolio showcases our capabilities in machine learning, computer vision, and generative AI techniques. Some of our notable projects include:\n",
      "\n",
      "* Machine Learning with Python: https://example.com/ml-python-portfolio\n",
      "* React-based Front-end Solutions: https://example.com/react-portfolio\n",
      "* Vue.js-based Front-end Solutions: https://example.com/vue-portfolio\n",
      "* DevOps and Cloud Platforms: https://example.com/devops-portfolio\n",
      "\n",
      "Our team is well-versed in the entire ML lifecycle, from data collection and annotation to modeling, evaluation, deployment, and monitoring. We have a proven track record of delivering high-quality analytics and machine learning solutions at scale.\n",
      "\n",
      "As a Lead Machine Learning Engineer – AI/ML, you can expect our team to provide technical leadership, establish standards and principles, and support the investigation of new software packages, tools, APIs, and algorithms. We will collaborate with your cross-functional agile team to build new product features and contribute to all processes of the ML lifecycle.\n",
      "\n",
      "Our team is committed to delivering production-quality code for ML models as online services and APIs. We also provide support by writing documentation and tutorials, as well as providing guidance to users with a variety of technical skills.\n",
      "\n",
      "If you're looking for a partner who can help you build and deploy AI solutions that drive business growth, I'd love to schedule a call to discuss how xyz can support your needs.\n",
      "\n",
      "Please feel free to reply to this email or schedule a call at your convenience.\n",
      "\n",
      "Best regards,\n",
      "\n",
      "Prabesh\n",
      "AI Engineer at xyz\n"
     ]
    }
   ],
   "source": [
    "prompt_email = PromptTemplate.from_template(\n",
    "        \"\"\"\n",
    "        ### JOB DESCRIPTION:\n",
    "        {job_description}\n",
    "        \n",
    "        ### INSTRUCTION:\n",
    "        You are Prabesh, a AI Engineer at xyz. xyz is an AI & Software Consulting company dedicated to facilitating\n",
    "        the seamless integration of business processes through automated tools. \n",
    "        Over our experience, we have empowered numerous enterprises with tailored solutions, fostering scalability, \n",
    "        process optimization, cost reduction, and heightened overall efficiency. \n",
    "        Your job is to write a cold email to the client regarding the job mentioned above describing the capability of xyz \n",
    "        in fulfilling their needs.\n",
    "        Also add the most relevant ones from the following links to showcase xyz's portfolio: {link_list}\n",
    "        Remember you are Prabesh, Ai engineer at xyz. \n",
    "        Do not provide a preamble.\n",
    "        ### EMAIL (NO PREAMBLE):\n",
    "        \n",
    "        \"\"\"\n",
    "        )\n",
    "chain_email = prompt_email | llm\n",
    "email_res = chain_email.invoke({'job_description':str(job),'link_list':links})\n",
    "print(email_res.content)"
   ]
  },
  {
   "cell_type": "code",
   "execution_count": null,
   "metadata": {},
   "outputs": [],
   "source": []
  }
 ],
 "metadata": {
  "kernelspec": {
   "display_name": "Python 3",
   "language": "python",
   "name": "python3"
  },
  "language_info": {
   "codemirror_mode": {
    "name": "ipython",
    "version": 3
   },
   "file_extension": ".py",
   "mimetype": "text/x-python",
   "name": "python",
   "nbconvert_exporter": "python",
   "pygments_lexer": "ipython3",
   "version": "3.12.6"
  }
 },
 "nbformat": 4,
 "nbformat_minor": 2
}
